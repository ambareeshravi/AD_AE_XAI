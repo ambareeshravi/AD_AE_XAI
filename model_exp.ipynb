{
 "cells": [
  {
   "cell_type": "code",
   "execution_count": 1,
   "metadata": {},
   "outputs": [],
   "source": [
    "import os\n",
    "os.environ[\"CUDA_VISIBLE_DEVICES\"] = \"\""
   ]
  },
  {
   "cell_type": "code",
   "execution_count": 2,
   "metadata": {},
   "outputs": [
    {
     "name": "stderr",
     "output_type": "stream",
     "text": [
      "Using TensorFlow backend.\n"
     ]
    }
   ],
   "source": [
    "from utils import *\n",
    "from model_utils import *\n",
    "from data import *\n",
    "from c2d_models import *"
   ]
  },
  {
   "cell_type": "code",
   "execution_count": null,
   "metadata": {},
   "outputs": [],
   "source": []
  },
  {
   "cell_type": "code",
   "execution_count": null,
   "metadata": {},
   "outputs": [],
   "source": []
  },
  {
   "cell_type": "code",
   "execution_count": 4,
   "metadata": {},
   "outputs": [
    {
     "name": "stdout",
     "output_type": "stream",
     "text": [
      "WARNING:tensorflow:From /home/ambreesh/Documents/amb_venv/lib/python3.6/site-packages/tensorflow_core/python/ops/resource_variable_ops.py:1630: calling BaseResourceVariable.__init__ (from tensorflow.python.ops.resource_variable_ops) with constraint is deprecated and will be removed in a future version.\n",
      "Instructions for updating:\n",
      "If using Keras pass *_constraint arguments to layers.\n"
     ]
    }
   ],
   "source": [
    "model = C2D_AE_128_3x3(isTrain=False)"
   ]
  },
  {
   "cell_type": "code",
   "execution_count": 6,
   "metadata": {},
   "outputs": [],
   "source": [
    "model.model.load_weights(\"trained_models/C2D_AE_128_3x3_HAM10000/model.h5\")"
   ]
  },
  {
   "cell_type": "code",
   "execution_count": 7,
   "metadata": {},
   "outputs": [
    {
     "name": "stdout",
     "output_type": "stream",
     "text": [
      "WARNING:tensorflow:From /home/ambreesh/Documents/amb_venv/lib/python3.6/site-packages/keras/backend/tensorflow_backend.py:422: The name tf.global_variables is deprecated. Please use tf.compat.v1.global_variables instead.\n",
      "\n"
     ]
    }
   ],
   "source": [
    "m1 = load_model(\"trained_models/C2D_AE_128_3x3_HAM10000/model.h5\")"
   ]
  },
  {
   "cell_type": "code",
   "execution_count": 8,
   "metadata": {},
   "outputs": [],
   "source": [
    "m2 = load_model(\"trained_models/C2D_AE_128_3x3_IR_DISTRACTION/model.h5\")"
   ]
  },
  {
   "cell_type": "code",
   "execution_count": null,
   "metadata": {},
   "outputs": [],
   "source": []
  },
  {
   "cell_type": "code",
   "execution_count": 11,
   "metadata": {},
   "outputs": [],
   "source": [
    "model_functional = model.model()"
   ]
  },
  {
   "cell_type": "code",
   "execution_count": 12,
   "metadata": {
    "collapsed": true,
    "jupyter": {
     "outputs_hidden": true
    }
   },
   "outputs": [
    {
     "name": "stdout",
     "output_type": "stream",
     "text": [
      "Model: \"model_1\"\n",
      "__________________________________________________________________________________________________\n",
      "Layer (type)                    Output Shape         Param #     Connected to                     \n",
      "==================================================================================================\n",
      "input_3 (InputLayer)            (None, 128, 128, 3)  0                                            \n",
      "__________________________________________________________________________________________________\n",
      "conv1_Conv2D (Conv2D)           (None, 63, 63, 64)   1792        input_3[0][0]                    \n",
      "__________________________________________________________________________________________________\n",
      "conv1_BatchNorm2D (BatchNormali (None, 63, 63, 64)   256         conv1_Conv2D[0][0]               \n",
      "__________________________________________________________________________________________________\n",
      "conv1_relu (Activation)         (None, 63, 63, 64)   0           conv1_BatchNorm2D[0][0]          \n",
      "__________________________________________________________________________________________________\n",
      "conv2_Conv2D (Conv2D)           (None, 31, 31, 64)   36928       conv1_relu[0][0]                 \n",
      "__________________________________________________________________________________________________\n",
      "conv2_BatchNorm2D (BatchNormali (None, 31, 31, 64)   256         conv2_Conv2D[0][0]               \n",
      "__________________________________________________________________________________________________\n",
      "conv2_relu (Activation)         (None, 31, 31, 64)   0           conv2_BatchNorm2D[0][0]          \n",
      "__________________________________________________________________________________________________\n",
      "conv3_Conv2D (Conv2D)           (None, 15, 15, 96)   55392       conv2_relu[0][0]                 \n",
      "__________________________________________________________________________________________________\n",
      "conv3_BatchNorm2D (BatchNormali (None, 15, 15, 96)   384         conv3_Conv2D[0][0]               \n",
      "__________________________________________________________________________________________________\n",
      "conv3_relu (Activation)         (None, 15, 15, 96)   0           conv3_BatchNorm2D[0][0]          \n",
      "__________________________________________________________________________________________________\n",
      "conv4_Conv2D (Conv2D)           (None, 7, 7, 96)     83040       conv3_relu[0][0]                 \n",
      "__________________________________________________________________________________________________\n",
      "conv4_BatchNorm2D (BatchNormali (None, 7, 7, 96)     384         conv4_Conv2D[0][0]               \n",
      "__________________________________________________________________________________________________\n",
      "conv4_relu (Activation)         (None, 7, 7, 96)     0           conv4_BatchNorm2D[0][0]          \n",
      "__________________________________________________________________________________________________\n",
      "encodings_Conv2D (Conv2D)       (None, 3, 3, 128)    110720      conv4_relu[0][0]                 \n",
      "__________________________________________________________________________________________________\n",
      "encodings_BatchNorm2D (BatchNor (None, 3, 3, 128)    512         encodings_Conv2D[0][0]           \n",
      "__________________________________________________________________________________________________\n",
      "encodings_relu (Activation)     (None, 3, 3, 128)    0           encodings_BatchNorm2D[0][0]      \n",
      "__________________________________________________________________________________________________\n",
      "convt1_ConvTranspose2D (Conv2DT (None, 7, 7, 96)     110688      encodings_relu[0][0]             \n",
      "__________________________________________________________________________________________________\n",
      "convt1_BatchNorm2D (BatchNormal (None, 7, 7, 96)     384         convt1_ConvTranspose2D[0][0]     \n",
      "__________________________________________________________________________________________________\n",
      "convt1_relu (Activation)        (None, 7, 7, 96)     0           convt1_BatchNorm2D[0][0]         \n",
      "__________________________________________________________________________________________________\n",
      "convt2_ConvTranspose2D (Conv2DT (None, 15, 15, 96)   83040       convt1_relu[0][0]                \n",
      "__________________________________________________________________________________________________\n",
      "convt2_BatchNorm2D (BatchNormal (None, 15, 15, 96)   384         convt2_ConvTranspose2D[0][0]     \n",
      "__________________________________________________________________________________________________\n",
      "convt2_relu (Activation)        (None, 15, 15, 96)   0           convt2_BatchNorm2D[0][0]         \n",
      "__________________________________________________________________________________________________\n",
      "convt3_ConvTranspose2D (Conv2DT (None, 31, 31, 64)   55360       convt2_relu[0][0]                \n",
      "__________________________________________________________________________________________________\n",
      "convt3_BatchNorm2D (BatchNormal (None, 31, 31, 64)   256         convt3_ConvTranspose2D[0][0]     \n",
      "__________________________________________________________________________________________________\n",
      "convt3_relu (Activation)        (None, 31, 31, 64)   0           convt3_BatchNorm2D[0][0]         \n",
      "__________________________________________________________________________________________________\n",
      "convt4_ConvTranspose2D (Conv2DT (None, 63, 63, 64)   36928       convt3_relu[0][0]                \n",
      "__________________________________________________________________________________________________\n",
      "convt4_BatchNorm2D (BatchNormal (None, 63, 63, 64)   256         convt4_ConvTranspose2D[0][0]     \n",
      "__________________________________________________________________________________________________\n",
      "convt4_relu (Activation)        (None, 63, 63, 64)   0           convt4_BatchNorm2D[0][0]         \n",
      "__________________________________________________________________________________________________\n",
      "reconstructions_ConvTranspose2D (None, 128, 128, 3)  3075        convt4_relu[0][0]                \n",
      "__________________________________________________________________________________________________\n",
      "reconstructions_BatchNorm2D (Ba (None, 128, 128, 3)  12          reconstructions_ConvTranspose2D[0\n",
      "__________________________________________________________________________________________________\n",
      "reconstructions_sigmoid (Activa (None, 128, 128, 3)  0           reconstructions_BatchNorm2D[0][0]\n",
      "__________________________________________________________________________________________________\n",
      "lambda_1 (Lambda)               (None, 1)            0           input_3[0][0]                    \n",
      "                                                                 reconstructions_sigmoid[0][0]    \n",
      "==================================================================================================\n",
      "Total params: 580,047\n",
      "Trainable params: 578,505\n",
      "Non-trainable params: 1,542\n",
      "__________________________________________________________________________________________________\n"
     ]
    }
   ],
   "source": [
    "model_functional.summary()"
   ]
  },
  {
   "cell_type": "code",
   "execution_count": 27,
   "metadata": {},
   "outputs": [],
   "source": [
    "model_functional.build([128,128,3])"
   ]
  },
  {
   "cell_type": "code",
   "execution_count": 28,
   "metadata": {},
   "outputs": [],
   "source": [
    "model_functional.compile(\"adam\", \"mse\")"
   ]
  },
  {
   "cell_type": "code",
   "execution_count": 36,
   "metadata": {},
   "outputs": [],
   "source": [
    "model_functional.save_weights(\"trash/ex1.h5\")"
   ]
  },
  {
   "cell_type": "code",
   "execution_count": 60,
   "metadata": {},
   "outputs": [],
   "source": [
    "a = C2D_exp(isTrain=False, max_value=450)"
   ]
  },
  {
   "cell_type": "code",
   "execution_count": 61,
   "metadata": {},
   "outputs": [],
   "source": [
    "a_model = a.model()"
   ]
  },
  {
   "cell_type": "code",
   "execution_count": 62,
   "metadata": {},
   "outputs": [],
   "source": [
    "a_model.load_weights(\"trash/ex1.h5\")"
   ]
  },
  {
   "cell_type": "code",
   "execution_count": 63,
   "metadata": {},
   "outputs": [
    {
     "data": {
      "text/plain": [
       "False"
      ]
     },
     "execution_count": 63,
     "metadata": {},
     "output_type": "execute_result"
    }
   ],
   "source": [
    "a.isTrain"
   ]
  },
  {
   "cell_type": "code",
   "execution_count": null,
   "metadata": {},
   "outputs": [],
   "source": []
  },
  {
   "cell_type": "code",
   "execution_count": 64,
   "metadata": {},
   "outputs": [
    {
     "data": {
      "text/plain": [
       "array([[9.132397],\n",
       "       [9.079828],\n",
       "       [9.173512],\n",
       "       [9.130272]], dtype=float32)"
      ]
     },
     "execution_count": 64,
     "metadata": {},
     "output_type": "execute_result"
    }
   ],
   "source": [
    "a_model.predict(np.random.rand(4,128,128,3).astype(np.float32))"
   ]
  },
  {
   "cell_type": "code",
   "execution_count": null,
   "metadata": {},
   "outputs": [],
   "source": []
  },
  {
   "cell_type": "code",
   "execution_count": 14,
   "metadata": {},
   "outputs": [],
   "source": [
    "model.isTrain = True"
   ]
  },
  {
   "cell_type": "code",
   "execution_count": 15,
   "metadata": {},
   "outputs": [
    {
     "data": {
      "text/plain": [
       "(4, 1)"
      ]
     },
     "execution_count": 15,
     "metadata": {},
     "output_type": "execute_result"
    }
   ],
   "source": [
    "model.predict(np.random.rand(4,128,128,3).astype(np.float32)).shape"
   ]
  },
  {
   "cell_type": "code",
   "execution_count": 20,
   "metadata": {},
   "outputs": [
    {
     "ename": "NotImplementedError",
     "evalue": "",
     "output_type": "error",
     "traceback": [
      "\u001b[0;31m---------------------------------------------------------------------------\u001b[0m",
      "\u001b[0;31mNotImplementedError\u001b[0m                       Traceback (most recent call last)",
      "\u001b[0;32m<ipython-input-20-be68f0f3b0b2>\u001b[0m in \u001b[0;36m<module>\u001b[0;34m\u001b[0m\n\u001b[0;32m----> 1\u001b[0;31m \u001b[0mmodel\u001b[0m\u001b[0;34m.\u001b[0m\u001b[0msave\u001b[0m\u001b[0;34m(\u001b[0m\u001b[0;34m\"trash/ex1.h5\"\u001b[0m\u001b[0;34m)\u001b[0m\u001b[0;34m\u001b[0m\u001b[0;34m\u001b[0m\u001b[0m\n\u001b[0m",
      "\u001b[0;32m~/Documents/amb_venv/lib/python3.6/site-packages/keras/engine/network.py\u001b[0m in \u001b[0;36msave\u001b[0;34m(self, filepath, overwrite, include_optimizer)\u001b[0m\n\u001b[1;32m   1148\u001b[0m         \"\"\"\n\u001b[1;32m   1149\u001b[0m         \u001b[0;32mif\u001b[0m \u001b[0;32mnot\u001b[0m \u001b[0mself\u001b[0m\u001b[0;34m.\u001b[0m\u001b[0m_is_graph_network\u001b[0m\u001b[0;34m:\u001b[0m\u001b[0;34m\u001b[0m\u001b[0;34m\u001b[0m\u001b[0m\n\u001b[0;32m-> 1150\u001b[0;31m             \u001b[0;32mraise\u001b[0m \u001b[0mNotImplementedError\u001b[0m\u001b[0;34m\u001b[0m\u001b[0;34m\u001b[0m\u001b[0m\n\u001b[0m\u001b[1;32m   1151\u001b[0m         \u001b[0;32mfrom\u001b[0m \u001b[0;34m.\u001b[0m\u001b[0;34m.\u001b[0m\u001b[0mmodels\u001b[0m \u001b[0;32mimport\u001b[0m \u001b[0msave_model\u001b[0m\u001b[0;34m\u001b[0m\u001b[0;34m\u001b[0m\u001b[0m\n\u001b[1;32m   1152\u001b[0m         \u001b[0msave_model\u001b[0m\u001b[0;34m(\u001b[0m\u001b[0mself\u001b[0m\u001b[0;34m,\u001b[0m \u001b[0mfilepath\u001b[0m\u001b[0;34m,\u001b[0m \u001b[0moverwrite\u001b[0m\u001b[0;34m,\u001b[0m \u001b[0minclude_optimizer\u001b[0m\u001b[0;34m)\u001b[0m\u001b[0;34m\u001b[0m\u001b[0;34m\u001b[0m\u001b[0m\n",
      "\u001b[0;31mNotImplementedError\u001b[0m: "
     ]
    }
   ],
   "source": [
    "model.save(\"trash/ex1.h5\")"
   ]
  },
  {
   "cell_type": "code",
   "execution_count": null,
   "metadata": {},
   "outputs": [],
   "source": []
  }
 ],
 "metadata": {
  "kernelspec": {
   "display_name": "Python 3",
   "language": "python",
   "name": "python3"
  },
  "language_info": {
   "codemirror_mode": {
    "name": "ipython",
    "version": 3
   },
   "file_extension": ".py",
   "mimetype": "text/x-python",
   "name": "python",
   "nbconvert_exporter": "python",
   "pygments_lexer": "ipython3",
   "version": "3.6.9"
  }
 },
 "nbformat": 4,
 "nbformat_minor": 4
}
